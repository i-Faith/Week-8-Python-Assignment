version https://git-lfs.github.com/spec/v1
oid sha256:5a39d70a9e7042455314bdd98c2bcd0c7bb0c7d468bc41aacca54b0f03db8d44
size 191012
